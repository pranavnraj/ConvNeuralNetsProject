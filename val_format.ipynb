{
 "cells": [
  {
   "cell_type": "code",
   "execution_count": 2,
   "metadata": {},
   "outputs": [],
   "source": [
    "import io\n",
    "import glob\n",
    "import os\n",
    "from shutil import move\n",
    "from os.path import join\n",
    "from os import listdir, rmdir\n",
    "\n",
    "target_folder = './tiny-imagenet-200/val/'\n",
    "test_folder   = './tiny-imagenet-200/test/'\n",
    "\n",
    "os.mkdir(test_folder)\n",
    "val_dict = {}\n",
    "with open('./tiny-imagenet-200/val/val_annotations.txt', 'r') as f:\n",
    "    for line in f.readlines():\n",
    "        split_line = line.split('\\t')\n",
    "        val_dict[split_line[0]] = split_line[1]\n",
    "        \n",
    "paths = glob.glob('./tiny-imagenet-200/val/images/*')\n",
    "for path in paths:\n",
    "    file = path.split('/')[-1]\n",
    "    folder = val_dict[file]\n",
    "    if not os.path.exists(target_folder + str(folder)):\n",
    "        os.mkdir(target_folder + str(folder))\n",
    "        os.mkdir(target_folder + str(folder) + '/images')\n",
    "    if not os.path.exists(test_folder + str(folder)):\n",
    "        os.mkdir(test_folder + str(folder))\n",
    "        os.mkdir(test_folder + str(folder) + '/images')\n",
    "        \n",
    "        \n",
    "for path in paths:\n",
    "    file = path.split('/')[-1]\n",
    "    folder = val_dict[file]\n",
    "    if len(glob.glob(target_folder + str(folder) + '/images/*')) <25:\n",
    "        dest = target_folder + str(folder) + '/images/' + str(file)\n",
    "    else:\n",
    "        dest = test_folder + str(folder) + '/images/' + str(file)\n",
    "    move(path, dest)\n",
    "    \n",
    "rmdir('./tiny-imagenet-200/val/images')"
   ]
  },
  {
   "cell_type": "code",
   "execution_count": null,
   "metadata": {},
   "outputs": [],
   "source": []
  }
 ],
 "metadata": {
  "kernelspec": {
   "display_name": "Python 3",
   "language": "python",
   "name": "python3"
  },
  "language_info": {
   "codemirror_mode": {
    "name": "ipython",
    "version": 3
   },
   "file_extension": ".py",
   "mimetype": "text/x-python",
   "name": "python",
   "nbconvert_exporter": "python",
   "pygments_lexer": "ipython3",
   "version": "3.7.3"
  }
 },
 "nbformat": 4,
 "nbformat_minor": 2
}
